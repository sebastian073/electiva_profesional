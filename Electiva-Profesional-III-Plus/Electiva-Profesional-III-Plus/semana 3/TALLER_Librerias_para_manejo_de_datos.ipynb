{
  "cells": [
    {
      "cell_type": "markdown",
      "metadata": {
        "deletable": false,
        "editable": false,
        "id": "77U9n-hJm9fU",
        "nbgrader": {
          "cell_type": "markdown",
          "checksum": "8408b526e4d3ee87ed1570506bf3a489",
          "grade": false,
          "grade_id": "obj",
          "locked": true,
          "schema_version": 3,
          "solution": false,
          "task": false
        }
      },
      "source": [
        "## Habilidades en práctica\n",
        "\n",
        "Al realizar este taller podrás revisar tu progreso para:\n",
        "\n",
        "**1.** Utilizar arreglos y operaciones básicas en `numpy`. <br>\n",
        "**2.** Crear, indexar y utilizar métodos para explorar y manipular `Series` y `DataFrame` en `pandas`."
      ]
    },
    {
      "cell_type": "markdown",
      "metadata": {
        "deletable": false,
        "editable": false,
        "id": "CmtfcNwPm9fV",
        "nbgrader": {
          "cell_type": "markdown",
          "checksum": "fad29e53c312484d67e1ae1f9d3ffcd1",
          "grade": false,
          "grade_id": "instr",
          "locked": true,
          "schema_version": 3,
          "solution": false,
          "task": false
        }
      },
      "source": [
        "## Instrucciones\n",
        "\n",
        "En cada uno de los siguientes ejercicios deberás escribir el código solicitado estrictamente en las celdas indicadas para ello, teniendo en cuenta las siguientes recomendaciones:\n",
        "\n",
        "* No crear, eliminar o modificar celdas de este Notebook (salvo lo que se te indique), pues puede verse afectado el proceso de calificación automática.\n",
        "* La calificación se realiza de manera automática con datos diferentes a los proporcionados en este taller. Por consiguiente, tu código debe funcionar para diferentes instancias de cada uno de los ejercicios; una instancia hace referencia al valor de los parámetros.\n",
        "* La calificación de cada ejercicio depende del valor que tome la variable especificada en su enunciado. Por lo tanto, aunque declares variables adicionales en tu código, es escencial que utilices los nombres de las variables propuestas en los enunciados de los ejercicios para guardar el resultado final.\n",
        "\n",
        "Esta es una actividad calificada y, por lo tanto, debe ser resuelta individualmente.\n",
        "\n",
        "A continuación puedes ver un ejemplo de los ejercicios que encontrarás en este taller."
      ]
    },
    {
      "cell_type": "markdown",
      "metadata": {
        "deletable": false,
        "editable": false,
        "id": "XoAo7rLOm9fV",
        "nbgrader": {
          "cell_type": "markdown",
          "checksum": "6b1ab0c8a6eedea63ce8a328037a3d60",
          "grade": false,
          "grade_id": "ejer-import-enun",
          "locked": true,
          "schema_version": 3,
          "solution": false,
          "task": false
        }
      },
      "source": [
        "## Ejercicios\n",
        "En la siguente celda encuentras declarados los paquetes necesarios para el desarollo de este taller."
      ]
    },
    {
      "cell_type": "code",
      "execution_count": 1,
      "metadata": {
        "deletable": false,
        "editable": false,
        "id": "ph-UcyVhm9fV",
        "nbgrader": {
          "cell_type": "code",
          "checksum": "7ec92ff36db037d8419a6a240c030026",
          "grade": false,
          "grade_id": "eje-import",
          "locked": true,
          "schema_version": 3,
          "solution": false,
          "task": false
        }
      },
      "outputs": [],
      "source": [
        "# Esta celda no es modificable.\n",
        "\n",
        "import numpy as np\n",
        "import pandas as pd"
      ]
    },
    {
      "cell_type": "markdown",
      "metadata": {
        "deletable": false,
        "editable": false,
        "id": "tHmFHGzgm9fW",
        "nbgrader": {
          "cell_type": "markdown",
          "checksum": "6e05ea7f5bf2dea606b00e2e6c01dc9a",
          "grade": false,
          "grade_id": "eje-import-enun",
          "locked": true,
          "schema_version": 3,
          "solution": false,
          "task": false
        }
      },
      "source": [
        "### Ejemplo\n",
        "A continuación encuentras dos arreglos. Cada uno contiene los salarios (en USD) de los funcionarios de un área de una empresa."
      ]
    },
    {
      "cell_type": "code",
      "execution_count": 2,
      "metadata": {
        "deletable": false,
        "editable": false,
        "id": "lLR7PSgum9fW",
        "nbgrader": {
          "cell_type": "code",
          "checksum": "d92363ff39e185a20857a4293ee036fe",
          "grade": false,
          "grade_id": "eje-data",
          "locked": true,
          "schema_version": 3,
          "solution": false,
          "task": false
        }
      },
      "outputs": [],
      "source": [
        "# Esta celda no es modificable.\n",
        "\n",
        "mercadeo = np.array([2000, 1500, 1300, 1600])\n",
        "logistica = np.array([1800, 1600, 1200, 1100])"
      ]
    },
    {
      "cell_type": "markdown",
      "metadata": {
        "deletable": false,
        "editable": false,
        "id": "-RC6jUYam9fW",
        "nbgrader": {
          "cell_type": "markdown",
          "checksum": "b52281eca001327146afba2a0b88893f",
          "grade": false,
          "grade_id": "eje-task",
          "locked": true,
          "schema_version": 3,
          "solution": false,
          "task": false
        }
      },
      "source": [
        "Implementa una función llamada `suma` que reciba dos arreglos por parámetro, los una y retorne la suma de los elementos de la unión.\n",
        "\n",
        "*Esta función debe retornar un `int`.*"
      ]
    },
    {
      "cell_type": "code",
      "execution_count": 3,
      "metadata": {
        "deletable": false,
        "editable": false,
        "id": "PMuAQh5Rm9fW",
        "nbgrader": {
          "cell_type": "code",
          "checksum": "2d5df999a41bbf4ed6692cdc0260c02f",
          "grade": false,
          "grade_id": "eje-sol",
          "locked": true,
          "schema_version": 3,
          "solution": false,
          "task": false
        }
      },
      "outputs": [
        {
          "data": {
            "text/plain": [
              "np.int64(12100)"
            ]
          },
          "execution_count": 3,
          "metadata": {},
          "output_type": "execute_result"
        }
      ],
      "source": [
        "# Implementa tu respuesta en esta celda.\n",
        "\n",
        "def suma(arreglo1, arreglo2):\n",
        "\n",
        "    concatenado = np.concatenate((arreglo1,arreglo2))\n",
        "    respuesta = concatenado.sum()\n",
        "\n",
        "    return respuesta\n",
        "\n",
        "suma(mercadeo, logistica)"
      ]
    },
    {
      "cell_type": "markdown",
      "metadata": {
        "deletable": false,
        "editable": false,
        "id": "NF8RLXWMm9fX",
        "nbgrader": {
          "cell_type": "markdown",
          "checksum": "19a6213ef656b752d98a6115277411e9",
          "grade": false,
          "grade_id": "ej1-enun",
          "locked": true,
          "schema_version": 3,
          "solution": false,
          "task": false
        }
      },
      "source": [
        "### Ejercicio 1\n",
        "A continuación encuentras dos arreglos. Cada uno contiene los salarios (en USD) de los funcionarios de un área de una empresa."
      ]
    },
    {
      "cell_type": "code",
      "execution_count": 27,
      "metadata": {
        "deletable": false,
        "editable": false,
        "id": "7xJyfnX8m9fX",
        "nbgrader": {
          "cell_type": "code",
          "checksum": "e1c69742d999a18b69373d6b48f7f320",
          "grade": false,
          "grade_id": "ej1-data",
          "locked": true,
          "schema_version": 3,
          "solution": false,
          "task": false
        }
      },
      "outputs": [],
      "source": [
        "# Esta celda no es modificable.\n",
        "\n",
        "mercadeo = np.array([2000, 1500, 1300, 1600])\n",
        "logistica = np.array([1800, 1600, 1200, 1600])"
      ]
    },
    {
      "cell_type": "markdown",
      "metadata": {
        "deletable": false,
        "editable": false,
        "id": "uE6SULRZm9fX",
        "nbgrader": {
          "cell_type": "markdown",
          "checksum": "e004f89008b97139414d3801e668b02c",
          "grade": false,
          "grade_id": "ej1-task",
          "locked": true,
          "schema_version": 3,
          "solution": false,
          "task": false
        }
      },
      "source": [
        "Implementa una función llamada `promedio` que reciba dos arreglos por parámetro, los una y retorne el promedio de los elementos de la unión.\n",
        "\n",
        "*Esta función debe retornar un `float`*."
      ]
    },
    {
      "cell_type": "code",
      "execution_count": 28,
      "metadata": {
        "deletable": false,
        "id": "GQfb8TYRm9fX",
        "nbgrader": {
          "cell_type": "code",
          "checksum": "18f7c3426a800c42631fab7a78383292",
          "grade": false,
          "grade_id": "ej1-sol",
          "locked": false,
          "schema_version": 3,
          "solution": true,
          "task": false
        }
      },
      "outputs": [
        {
          "name": "stdout",
          "output_type": "stream",
          "text": [
            "1575.0\n"
          ]
        }
      ],
      "source": [
        "# your code here\n",
        "def promedio(array1,array2):\n",
        "    concatenar = np.concatenate((array1,array2))\n",
        "    res = concatenar.mean()\n",
        "    return res\n",
        "\n",
        "print(promedio(mercadeo,logistica))"
      ]
    },
    {
      "cell_type": "code",
      "execution_count": 29,
      "metadata": {
        "deletable": false,
        "editable": false,
        "id": "4oAejajam9fX",
        "nbgrader": {
          "cell_type": "code",
          "checksum": "c32ede0f718ee4d2a5aaee48da5d1f4f",
          "grade": true,
          "grade_id": "ej1-test",
          "locked": true,
          "points": 1,
          "schema_version": 3,
          "solution": false,
          "task": false
        }
      },
      "outputs": [
        {
          "name": "stdout",
          "output_type": "stream",
          "text": [
            "Felicidades, realizaste este ejercicio correctamente.\n"
          ]
        }
      ],
      "source": [
        "## AUTO-CALIFICADOR\n",
        "\n",
        "# Base variables\n",
        "mercadeo_test = np.array([2000, 1800, 1300])\n",
        "logistica_test = np.array([1100, 1900, 1600, 1500])\n",
        "# Respuestas 1800 og  y 1600 test\n",
        "\n",
        "# Caso 1: no existe la función.\n",
        "try:\n",
        "    promedio\n",
        "    assert type(promedio) == type(lambda:None)\n",
        "except:\n",
        "    raise NotImplementedError(\"No existe una función llamada promedio.\",)\n",
        "\n",
        "# Caso 2: la función es interrumpida por errores durante su ejecución.\n",
        "try:\n",
        "    promedio(mercadeo, logistica)\n",
        "    promedio(mercadeo_test, logistica_test)\n",
        "except:\n",
        "    raise RuntimeError(\"Tu función produce un error al ejecutarse.\")\n",
        "\n",
        "# Caso 3: no retorna un número\n",
        "assert type(promedio(mercadeo_test, logistica_test)) == np.float64, f\"Tu función debe retornar un valor de tipo {np.float64}.\"\n",
        "\n",
        "# Caso 4: respuesta explicita\n",
        "assert promedio(mercadeo_test, logistica_test) != 1800.0, \"Tu respuesta es incorrecta para una instancia diferente. Utiliza los parámetros.\"\n",
        "\n",
        "# Caso 5: procedimiento incorrecto\n",
        "assert promedio(mercadeo_test, logistica_test) <= 1600.0, \"Tu respuesta es incorrecta. Asegurate de cocatenar los arreglos y luego calcular un promedio.\"\n",
        "\n",
        "# Caso 6: retorna un numero distinto del esperado\n",
        "assert promedio(mercadeo_test, logistica_test) == 1600.0, \"Tu respuesta es incorrecta. Es posible que hayas omitido algún valor al realizar el cálculo.\"\n",
        "assert promedio(mercadeo, logistica) == 1575.0, \"Tu respuesta es incorrecta. Es posible que hayas omitido algún valor al realizar el cálculo.\"\n",
        "\n",
        "# Mensaje de felicitaciones\n",
        "print(\"Felicidades, realizaste este ejercicio correctamente.\")"
      ]
    },
    {
      "cell_type": "markdown",
      "metadata": {
        "deletable": false,
        "editable": false,
        "id": "J114ElZTm9fX",
        "nbgrader": {
          "cell_type": "markdown",
          "checksum": "74680175c4365418d62c934ab7f1a049",
          "grade": false,
          "grade_id": "ej2-enun",
          "locked": true,
          "schema_version": 3,
          "solution": false,
          "task": false
        }
      },
      "source": [
        "### Ejercicio 2\n",
        "\n",
        "A continuación encuentras un `Series` que contiene la edad de Sonia y sus hermanos. Ellos quieren quienes son los dos mayores para estar atentos a la vacunación."
      ]
    },
    {
      "cell_type": "code",
      "execution_count": 10,
      "metadata": {
        "deletable": false,
        "editable": false,
        "id": "uMT32E-wm9fX",
        "nbgrader": {
          "cell_type": "code",
          "checksum": "690d7d7f1a3e4cce7f75808ec9aaddff",
          "grade": false,
          "grade_id": "ej2-data",
          "locked": true,
          "schema_version": 3,
          "solution": false,
          "task": false
        }
      },
      "outputs": [],
      "source": [
        "# Esta celda no es modificable.\n",
        "\n",
        "hermanos = pd.Series({\"Sonia\": 40, \"Patricia\": 42, \"Jorge\": 37, \"Alejandro\": 45, \"Aura\": 47, \"Carlos\": 40, \"Claudia\": 41, \"Victor\": 43})"
      ]
    },
    {
      "cell_type": "markdown",
      "metadata": {
        "deletable": false,
        "editable": false,
        "id": "W0_e_MsUm9fY",
        "nbgrader": {
          "cell_type": "markdown",
          "checksum": "b1802437d81e1c4f32e054fb3cd5ebb0",
          "grade": false,
          "grade_id": "ej2-task",
          "locked": true,
          "schema_version": 3,
          "solution": false,
          "task": false
        }
      },
      "source": [
        "Implementa una función llamada `mayores` que reciba un `Series` por parámetro y retorne los dos mayores valores en una tupla.\n",
        "\n",
        "*Esta función debe retornar una tupla de la forma* `(mayor_valor1, mayor_valor2)` *, dónde* `mayor_valor1` *es mayor o igual que* `mayor_valor2` *.*"
      ]
    },
    {
      "cell_type": "code",
      "execution_count": 21,
      "metadata": {
        "deletable": false,
        "id": "U5PKsVQCm9fY",
        "nbgrader": {
          "cell_type": "code",
          "checksum": "10353e780cf9b15c94f91380430ca7a8",
          "grade": false,
          "grade_id": "ej2-sol",
          "locked": false,
          "schema_version": 3,
          "solution": true,
          "task": false
        }
      },
      "outputs": [
        {
          "name": "stdout",
          "output_type": "stream",
          "text": [
            "(np.int64(47), np.int64(45))\n"
          ]
        }
      ],
      "source": [
        "# your code here\n",
        "def mayores(serie: pd.Series)->tuple:\n",
        "    mayores = serie.nlargest(2).values\n",
        "\n",
        "    return (mayores[0],mayores[1])\n",
        "\n",
        "print (mayores(hermanos))"
      ]
    },
    {
      "cell_type": "code",
      "execution_count": 13,
      "metadata": {
        "deletable": false,
        "editable": false,
        "id": "h8oWn2S8m9fY",
        "nbgrader": {
          "cell_type": "code",
          "checksum": "6e96636dd5a9fb11e6eb0f765fe61b66",
          "grade": true,
          "grade_id": "ej2-test",
          "locked": true,
          "points": 1,
          "schema_version": 3,
          "solution": false,
          "task": false
        }
      },
      "outputs": [
        {
          "name": "stdout",
          "output_type": "stream",
          "text": [
            "Felicidades, realizaste este ejercicio correctamente.\n"
          ]
        }
      ],
      "source": [
        "## AUTO-CALIFICADOR\n",
        "\n",
        "# Base variables\n",
        "hermanos_test = pd.Series({\"Sonia\": 43, \"Patricia\": 46, \"Jorge\": 39, \"Alejandro\": 40, \"Aura\": 30, \"Carlos\": 41, \"Claudia\": 40})\n",
        "\n",
        "# Caso 1: no existe la función.\n",
        "try:\n",
        "    mayores\n",
        "    assert type(mayores) == type(lambda:None)\n",
        "except:\n",
        "    raise NotImplementedError(\"No existe una función llamada mayores.\",)\n",
        "\n",
        "# Caso 2: la función es interrumpida por errores durante su ejecución.\n",
        "try:\n",
        "    mayores(hermanos)\n",
        "    mayores(hermanos_test)\n",
        "except:\n",
        "    raise RuntimeError(\"Tu función produce un error al ejecutarse.\")\n",
        "\n",
        "# Caso 3: no retorna una lista\n",
        "assert type(mayores(hermanos_test)) == type((\"\",)), f\"Tu función debe retornar un objeto de tipo {type(tuple).__name__}.\"\n",
        "\n",
        "# Caso 4: tamaño incorrecto\n",
        "assert len(mayores(hermanos_test)) == 2, \"Tu función retorna una lista de un tamaño diferente al solicitado.\"\n",
        "\n",
        "# Caso 5: procedimiento incorrecto\n",
        "assert mayores(hermanos_test) != [47, 45], \"Tu respuesta es incorrecta para una instancia diferente. Utiliza los parámetros.\"\n",
        "\n",
        "# Caso 6: la lista no contiene todos los valores correctos\n",
        "try:\n",
        "    assert mayores(hermanos_test).count(46) >= 1\n",
        "    assert mayores(hermanos_test).count(43) >= 1\n",
        "except AssertionError as e:\n",
        "    e.args += (\"Tu respuesta no contiene la información solicitada.\",)\n",
        "    raise e\n",
        "\n",
        "# Caso 7: la lista es estrictamente correcta\n",
        "try:\n",
        "    assert mayores(hermanos_test)[0] == 46\n",
        "    assert mayores(hermanos_test)[1] == 43\n",
        "except AssertionError as e:\n",
        "    e.args += (\"Tu respuesta tiene un orden incorrecto.\",)\n",
        "    raise e\n",
        "\n",
        "# Caso 8: retorna un numero distinto del esperado\n",
        "assert mayores(hermanos) == (47, 45), \"Tu respuesta es incorrecta.\"\n",
        "\n",
        "# Mensaje de felicitaciones\n",
        "print(\"Felicidades, realizaste este ejercicio correctamente.\")"
      ]
    },
    {
      "cell_type": "markdown",
      "metadata": {
        "deletable": false,
        "editable": false,
        "id": "DIdHln4Om9fY",
        "nbgrader": {
          "cell_type": "markdown",
          "checksum": "8243348417ce54da17a91f67a159444b",
          "grade": false,
          "grade_id": "ej345-enun",
          "locked": true,
          "schema_version": 3,
          "solution": false,
          "task": false
        }
      },
      "source": [
        "## Salarios en latinoamérica\n",
        "\n",
        "A continuación, encuentras declarado un `DataFrame` que contiene la edad, la ciudad de residencia y el salario (en USD) de nombres de algunos empleados de una multinacional. Utiliza esta información para dar respuesta a los ejercicios 3, 4 y 5."
      ]
    },
    {
      "cell_type": "code",
      "execution_count": 14,
      "metadata": {
        "deletable": false,
        "editable": false,
        "id": "ef_EHM8im9fY",
        "nbgrader": {
          "cell_type": "code",
          "checksum": "17a70d4b73a5b5c3afbaeaa355178cce",
          "grade": false,
          "grade_id": "ej345-data",
          "locked": true,
          "schema_version": 3,
          "solution": false,
          "task": false
        }
      },
      "outputs": [
        {
          "data": {
            "text/html": [
              "<div>\n",
              "<style scoped>\n",
              "    .dataframe tbody tr th:only-of-type {\n",
              "        vertical-align: middle;\n",
              "    }\n",
              "\n",
              "    .dataframe tbody tr th {\n",
              "        vertical-align: top;\n",
              "    }\n",
              "\n",
              "    .dataframe thead th {\n",
              "        text-align: right;\n",
              "    }\n",
              "</style>\n",
              "<table border=\"1\" class=\"dataframe\">\n",
              "  <thead>\n",
              "    <tr style=\"text-align: right;\">\n",
              "      <th></th>\n",
              "      <th>Edad</th>\n",
              "      <th>Ciudad Residencia</th>\n",
              "      <th>Salario (en USD)</th>\n",
              "    </tr>\n",
              "  </thead>\n",
              "  <tbody>\n",
              "    <tr>\n",
              "      <th>Carlos</th>\n",
              "      <td>28</td>\n",
              "      <td>Bogotá</td>\n",
              "      <td>2000</td>\n",
              "    </tr>\n",
              "    <tr>\n",
              "      <th>David</th>\n",
              "      <td>37</td>\n",
              "      <td>Lima</td>\n",
              "      <td>3200</td>\n",
              "    </tr>\n",
              "    <tr>\n",
              "      <th>Ana</th>\n",
              "      <td>23</td>\n",
              "      <td>Bogotá</td>\n",
              "      <td>1700</td>\n",
              "    </tr>\n",
              "    <tr>\n",
              "      <th>Maria</th>\n",
              "      <td>25</td>\n",
              "      <td>Buenos Aires</td>\n",
              "      <td>1100</td>\n",
              "    </tr>\n",
              "    <tr>\n",
              "      <th>Felipe</th>\n",
              "      <td>43</td>\n",
              "      <td>Buenos Aires</td>\n",
              "      <td>3300</td>\n",
              "    </tr>\n",
              "    <tr>\n",
              "      <th>Luisa</th>\n",
              "      <td>58</td>\n",
              "      <td>Lima</td>\n",
              "      <td>5500</td>\n",
              "    </tr>\n",
              "    <tr>\n",
              "      <th>Juan</th>\n",
              "      <td>32</td>\n",
              "      <td>Bogotá</td>\n",
              "      <td>2700</td>\n",
              "    </tr>\n",
              "    <tr>\n",
              "      <th>Camila</th>\n",
              "      <td>35</td>\n",
              "      <td>Quito</td>\n",
              "      <td>2500</td>\n",
              "    </tr>\n",
              "  </tbody>\n",
              "</table>\n",
              "</div>"
            ],
            "text/plain": [
              "        Edad Ciudad Residencia  Salario (en USD)\n",
              "Carlos    28            Bogotá              2000\n",
              "David     37              Lima              3200\n",
              "Ana       23            Bogotá              1700\n",
              "Maria     25      Buenos Aires              1100\n",
              "Felipe    43      Buenos Aires              3300\n",
              "Luisa     58              Lima              5500\n",
              "Juan      32            Bogotá              2700\n",
              "Camila    35             Quito              2500"
            ]
          },
          "execution_count": 14,
          "metadata": {},
          "output_type": "execute_result"
        }
      ],
      "source": [
        "# Esta celda no es modificable.\n",
        "\n",
        "e1 = [ 28,\"Bogotá\", 2000]\n",
        "e2 = [ 37, \"Lima\", 3200 ]\n",
        "e3 = [ 23,\"Bogotá\", 1700]\n",
        "e4 = [ 25, \"Buenos Aires\", 1100 ]\n",
        "e5 = [ 43,\"Buenos Aires\", 3300]\n",
        "e6 = [ 58, \"Lima\", 5500 ]\n",
        "e7 = [ 32,\"Bogotá\", 2700]\n",
        "e8 = [ 35, \"Quito\", 2500 ]\n",
        "\n",
        "empleados = pd.DataFrame([e1,e2, e3, e4, e5, e6, e7, e8],\n",
        "                         index = [\"Carlos\", \"David\", \"Ana\", \"Maria\", \"Felipe\", \"Luisa\", \"Juan\", \"Camila\"],\n",
        "                         columns = [\"Edad\", \"Ciudad Residencia\", \"Salario (en USD)\"])\n",
        "empleados"
      ]
    },
    {
      "cell_type": "markdown",
      "metadata": {
        "deletable": false,
        "editable": false,
        "id": "_axwPXmqm9fY",
        "nbgrader": {
          "cell_type": "markdown",
          "checksum": "ce32cd2e86afaa5ec011ce42835a627b",
          "grade": false,
          "grade_id": "ej3-task",
          "locked": true,
          "schema_version": 3,
          "solution": false,
          "task": false
        }
      },
      "source": [
        "### Ejercicio 3\n",
        "\n",
        "Implementa una función llamada `ciudades` que reciba un `DataFrame` por parámetro y retorne el número de ciudades diferentes en las que residen los empleados de la multinacional.\n",
        "\n",
        "*Esta función debe retornar un `int`*."
      ]
    },
    {
      "cell_type": "code",
      "execution_count": 19,
      "metadata": {
        "deletable": false,
        "id": "RmaXitT7m9fY",
        "nbgrader": {
          "cell_type": "code",
          "checksum": "b08e8696791b2f86632f759a2a601052",
          "grade": false,
          "grade_id": "ej3-sol",
          "locked": false,
          "schema_version": 3,
          "solution": true,
          "task": false
        }
      },
      "outputs": [
        {
          "name": "stdout",
          "output_type": "stream",
          "text": [
            "4\n"
          ]
        }
      ],
      "source": [
        "# your code here\n",
        "def ciudades(df: pd.DataFrame) -> int:\n",
        "\n",
        "    return df[\"Ciudad Residencia\"].nunique() #cuenta los valors\n",
        "\n",
        "print(ciudades(empleados))"
      ]
    },
    {
      "cell_type": "code",
      "execution_count": 23,
      "metadata": {
        "deletable": false,
        "editable": false,
        "id": "iA3_f-clm9fZ",
        "nbgrader": {
          "cell_type": "code",
          "checksum": "39ebc1bc103ab8484e3c7ed7f12f9178",
          "grade": true,
          "grade_id": "ej3-test",
          "locked": true,
          "points": 1,
          "schema_version": 3,
          "solution": false,
          "task": false
        }
      },
      "outputs": [
        {
          "name": "stdout",
          "output_type": "stream",
          "text": [
            "Felicidades, realizaste este ejercicio correctamente.\n"
          ]
        }
      ],
      "source": [
        "## AUTO-CALIFICADOR\n",
        "\n",
        "# Test paremters\n",
        "e1 = [ 28,\"Quito\", 2000]\n",
        "e2 = [ 37, \"Lima\", 3200 ]\n",
        "e3 = [ 22,\"Bogotá\", 1700]\n",
        "e4 = [ 35, \"Santiago\", 1100]\n",
        "e5 = [ 41,\"Buenos Aires\", 3900]\n",
        "e6 = [ 58, \"Lima\", 5500]\n",
        "e7 = [ 22,\"Brasilia\", 2100]\n",
        "e8 = [ 35, \"Bogotá\", 2500]\n",
        "\n",
        "empleados_test = pd.DataFrame([e1,e2, e3, e4, e5, e6, e7, e8],\n",
        "                              index = [\"Carlos\", \"David\", \"Ana\", \"Maria\", \"Felipe\", \"Luisa\", \"Juan\", \"Camila\"],\n",
        "                              columns = [\"Edad\", \"Ciudad Residencia\", \"Salario (en USD)\"])\n",
        "\n",
        "# Caso 1: no existe la función.\n",
        "try:\n",
        "    ciudades\n",
        "    assert type(ciudades) == type(lambda:None)\n",
        "except:\n",
        "    raise NotImplementedError(\"No existe una función llamada ciudades.\")\n",
        "\n",
        "# Caso 2: la función es interrumpida por errores durante su ejecución.\n",
        "try:\n",
        "    ciudades(empleados)\n",
        "    ciudades(empleados_test)\n",
        "except:\n",
        "    raise RuntimeError(\"Tu función produce un error al ejecutarse.\")\n",
        "\n",
        "# Caso 3: no retorna un int\n",
        "assert type(ciudades(empleados_test)) == int, f\"Tu función debe retornar un objeto de tipo {int.__name__}.\"\n",
        "\n",
        "# Caso 4: respuesta explicita\n",
        "assert ciudades(empleados_test) != 4, \"Tu respuesta es incorrecta para una instancia diferente. Utiliza los parámetros.\"\n",
        "\n",
        "# Caso 5: Retorna el número de elementos de la columna 'Ciudad Residencia'\n",
        "assert ciudades(empleados_test) != 8, \"Tu respuesta es el número de elementos de la columna 'Ciudad Residencia'.\"\n",
        "\n",
        "# Caso 6: retorna un numero distinto del esperado\n",
        "assert ciudades(empleados_test) == 6, \"Tu respuesta es incorrecta.\"\n",
        "assert ciudades(empleados) == 4, \"Tu respuesta es incorrecta.\"\n",
        "\n",
        "# Mensaje de felicitaciones\n",
        "print(\"Felicidades, realizaste este ejercicio correctamente.\")"
      ]
    },
    {
      "cell_type": "markdown",
      "metadata": {
        "deletable": false,
        "editable": false,
        "id": "_H53p-pUm9fZ",
        "nbgrader": {
          "cell_type": "markdown",
          "checksum": "538092bb10d9cbbd07f598fea48add53",
          "grade": false,
          "grade_id": "ej4-task",
          "locked": true,
          "schema_version": 3,
          "solution": false,
          "task": false
        }
      },
      "source": [
        "### Ejercicio 4\n",
        "\n",
        "Implementa una función llamada `mayor_al_promedio` que reciba un `DataFrame` y un índice de este `DataFrame` por parámetro, y retorne `True` si el salario asociado a este índice es mayor al promedio o `False` de lo contrario.\n",
        "\n",
        "*Esta función debe retornar* `True` *o* `False` *.*"
      ]
    },
    {
      "cell_type": "code",
      "execution_count": 18,
      "metadata": {
        "deletable": false,
        "id": "4VmYGwf4m9fZ",
        "nbgrader": {
          "cell_type": "code",
          "checksum": "ea3894dd9bfa35bc3e7b118e70d6731b",
          "grade": false,
          "grade_id": "ej4-sol",
          "locked": false,
          "schema_version": 3,
          "solution": true,
          "task": false
        }
      },
      "outputs": [
        {
          "name": "stdout",
          "output_type": "stream",
          "text": [
            "False\n",
            "True\n"
          ]
        }
      ],
      "source": [
        "# your code here\n",
        "def mayor_al_promedio(df: pd.DataFrame, indice:str) -> bool:\n",
        "    promedio = df[\"Salario (en USD)\"].mean() #promedio\n",
        "    salarioPromedio = df.loc[indice, \"Salario (en USD)\"]\n",
        "\n",
        "    return bool(salarioPromedio > promedio)\n",
        "print (mayor_al_promedio(empleados, \"Carlos\"))\n",
        "print (mayor_al_promedio(empleados, \"David\"))\n"
      ]
    },
    {
      "cell_type": "code",
      "execution_count": 36,
      "metadata": {
        "deletable": false,
        "editable": false,
        "id": "pug1lr-2m9fZ",
        "nbgrader": {
          "cell_type": "code",
          "checksum": "183d4df291a964609dabe3c08252ae34",
          "grade": true,
          "grade_id": "ej4-test",
          "locked": true,
          "points": 1,
          "schema_version": 3,
          "solution": false,
          "task": false
        }
      },
      "outputs": [
        {
          "name": "stdout",
          "output_type": "stream",
          "text": [
            "Felicidades, realizaste este ejercicio correctamente.\n"
          ]
        }
      ],
      "source": [
        "## AUTO-CALIFICADOR\n",
        "\n",
        "# Test paremters\n",
        "e1 = [ 28,\"Quito\", 2000]\n",
        "e2 = [ 37, \"Lima\", 3200 ]\n",
        "e3 = [ 22,\"Bogotá\", 1700]\n",
        "e4 = [ 35, \"Santiago\", 1100 ]\n",
        "e5 = [ 41,\"Buenos Aires\", 3900]\n",
        "e6 = [ 58, \"Lima\", 5500 ]\n",
        "e7 = [ 22,\"Brasilia\", 2100]\n",
        "e8 = [ 35, \"Bogotá\", 2500 ]\n",
        "\n",
        "empleados_test = pd.DataFrame([e1,e2, e3, e4, e5, e6, e7, e8],\n",
        "                              index=[\"Carlos\", \"David\", \"Ana\", \"Maria\", \"Felipe\", \"Luisa\", \"Juan\", \"Camila\"],\n",
        "                              columns=[\"Edad\", \"Ciudad Residencia\", \"Salario (en USD)\"])\n",
        "\n",
        "# Caso 1: no existe la función.\n",
        "try:\n",
        "    mayor_al_promedio\n",
        "    assert type(mayor_al_promedio) == type(lambda:None)\n",
        "except:\n",
        "    raise NotImplementedError(\"No existe una función llamada mayor_al_promedio.\")\n",
        "\n",
        "# Caso 2: la función es interrumpida por errores durante su ejecución.\n",
        "try:\n",
        "    mayor_al_promedio(empleados, 'Juan')\n",
        "    mayor_al_promedio(empleados_test, 'Luisa')\n",
        "except:\n",
        "    raise RuntimeError(\"Tu función produce un error al ejecutarse.\")\n",
        "\n",
        "# Caso 3: no retorna un boolean\n",
        "assert type(mayor_al_promedio(empleados_test, 'Luisa')) == type(True), f\"Tu función debe retornar un objeto de tipo {type(True).__name__}.\"\n",
        "\n",
        "# Caso 4: procedimiento incorrecto\n",
        "assert mayor_al_promedio(empleados_test, 'Luisa') != False, \"Tu respuesta es incorrecta para una instancia diferente. Utiliza los parámetros.\"\n",
        "\n",
        "# Caso 5: retorna un numero distinto del esperado\n",
        "assert mayor_al_promedio(empleados_test, 'Luisa') == True, \"Tu respuesta es incorrecta.\"\n",
        "assert mayor_al_promedio(empleados, 'Juan') == False, \"Tu respuesta es incorrecta.\"\n",
        "\n",
        "# Mensaje de felicitaciones\n",
        "print(\"Felicidades, realizaste este ejercicio correctamente.\")"
      ]
    },
    {
      "cell_type": "markdown",
      "metadata": {
        "deletable": false,
        "editable": false,
        "id": "9HBH1z2Zm9fZ",
        "nbgrader": {
          "cell_type": "markdown",
          "checksum": "c0b8443d552bb99e6b182c0d63d2d243",
          "grade": false,
          "grade_id": "ej5-task",
          "locked": true,
          "schema_version": 3,
          "solution": false,
          "task": false
        }
      },
      "source": [
        "### Ejercicio 5\n",
        "\n",
        "Implementa una función llamada `modificar` que reciba un `DataFrame` por parámetro, elimine la segunda fila, cambie el nombre de la columna 'Salario (en USD)' a 'Sueldo (en USD)' y retorne un nuevo `DataFrame` con las modificaciones realizadas.\n",
        "\n",
        "*Esta función debe retornar un* `DataFrame` *.*"
      ]
    },
    {
      "cell_type": "code",
      "execution_count": 37,
      "metadata": {
        "deletable": false,
        "id": "hiCkaXzdm9fZ",
        "nbgrader": {
          "cell_type": "code",
          "checksum": "3b0f8e6e36fbaec3299ccf911aa2d45e",
          "grade": false,
          "grade_id": "ej5-sol",
          "locked": false,
          "schema_version": 3,
          "solution": true,
          "task": false
        }
      },
      "outputs": [
        {
          "name": "stdout",
          "output_type": "stream",
          "text": [
            "        Edad Ciudad Residencia  Sueldo (en USD)\n",
            "Carlos    28            Bogotá             2000\n",
            "Ana       23            Bogotá             1700\n",
            "Maria     25      Buenos Aires             1100\n",
            "Felipe    43      Buenos Aires             3300\n",
            "Luisa     58              Lima             5500\n",
            "Juan      32            Bogotá             2700\n",
            "Camila    35             Quito             2500\n"
          ]
        }
      ],
      "source": [
        "# your code here\n",
        "def modificar (df: pd.DataFrame) -> pd.DataFrame:\n",
        "    df_cambio = df.drop(df.index[1]) #eliminar\n",
        "    df_cambio = df_cambio.rename(columns={\"Salario (en USD)\": \"Sueldo (en USD)\"})\n",
        "\n",
        "    return df_cambio\n",
        "\n",
        "print(modificar(empleados))"
      ]
    },
    {
      "cell_type": "code",
      "execution_count": 38,
      "metadata": {
        "deletable": false,
        "editable": false,
        "id": "57dfIKFDm9fZ",
        "nbgrader": {
          "cell_type": "code",
          "checksum": "1dcacd099edabd8d8242edb13539aaf3",
          "grade": true,
          "grade_id": "ej5-test",
          "locked": true,
          "points": 1,
          "schema_version": 3,
          "solution": false,
          "task": false
        }
      },
      "outputs": [
        {
          "name": "stdout",
          "output_type": "stream",
          "text": [
            "Felicidades, realizaste este ejercicio correctamente.\n"
          ]
        }
      ],
      "source": [
        "## AUTO-CALIFICADOR\n",
        "\n",
        "# Test paremters\n",
        "e1 = [ 28,\"Quito\", 2000]\n",
        "e2 = [ 37, \"Lima\", 3200 ]\n",
        "e3 = [ 22,\"Bogotá\", 1700]\n",
        "e4 = [ 35, \"Santiago\", 1100 ]\n",
        "e5 = [ 41,\"Buenos Aires\", 3900]\n",
        "e6 = [ 58, \"Lima\", 5500 ]\n",
        "e7 = [ 22,\"Brasilia\", 2100]\n",
        "e8 = [ 35, \"Bogotá\", 2500 ]\n",
        "\n",
        "empleados_test = pd.DataFrame([e1,e2, e3, e4, e5, e6, e7, e8],\n",
        "                              index=[\"Carlos\", \"Diego\", \"Ariel\", \"Maria\", \"Felipe\", \"Luisa\", \"Juan\", \"Camila\"],\n",
        "                              columns=[\"Edad\", \"Ciudad Residencia\", \"Salario (en USD)\"])\n",
        "\n",
        "# Caso 1: no existe la función.\n",
        "try:\n",
        "    modificar\n",
        "    assert type(modificar) == type(lambda:None)\n",
        "except:\n",
        "    raise NotImplementedError(\"No existe una función llamada modificar.\",)\n",
        "\n",
        "# Caso 2: la función es interrumpida por errores durante su ejecución.\n",
        "try:\n",
        "    modificar(empleados)\n",
        "    modificar(empleados_test)\n",
        "except:\n",
        "    raise RuntimeError(\"Tu función produce un error al ejecutarse.\")\n",
        "\n",
        "# Caso 3: no retorna un dataframe\n",
        "assert type(modificar(empleados_test)) == type(empleados_test), f\"Tu función debe retornar un objeto de tipo {type(empleados_test).__name__}.\"\n",
        "\n",
        "# Caso 4: Cambio de nombre correcto\n",
        "assert modificar(empleados_test).columns[2] == 'Sueldo (en USD)', \"Tu respuesta es incorrecta. Recuerda modificar el nombre de la columna 'Salario (en USD)'\"\n",
        "\n",
        "# Caso 5: Elimino la fila\n",
        "modificar(empleados_test).index[[1]] == 'Ariel', \"Tu respuesta es incorrecta. Recuerda eliminar la segunda fila del DataFrame.\"\n",
        "\n",
        "# Caso 6: los cambios son estrictamente correctos\n",
        "try:\n",
        "    assert modificar(empleados).columns[2] == 'Sueldo (en USD)'\n",
        "    assert modificar(empleados).index[[1]] == 'Ana'\n",
        "except AssertionError as e:\n",
        "    e.args += (\"Tu respuesta es incorrecta.\",)\n",
        "    raise e\n",
        "\n",
        "# Mensaje de felicitaciones\n",
        "print(\"Felicidades, realizaste este ejercicio correctamente.\")"
      ]
    },
    {
      "cell_type": "markdown",
      "metadata": {
        "deletable": false,
        "editable": false,
        "id": "MD_33N61m9fZ",
        "nbgrader": {
          "cell_type": "markdown",
          "checksum": "4e5199e32f9cd50109e61458c5af60fd",
          "grade": false,
          "grade_id": "ej678-enun",
          "locked": true,
          "schema_version": 3,
          "solution": false,
          "task": false
        }
      },
      "source": [
        "## Lista de países\n",
        "\n",
        "A continuación encuentras un `DataFrame` con un listado de países con su respectivo nombre en inglés y en español."
      ]
    },
    {
      "cell_type": "code",
      "execution_count": 34,
      "metadata": {
        "deletable": false,
        "editable": false,
        "id": "aRMSqU5Zm9fZ",
        "nbgrader": {
          "cell_type": "code",
          "checksum": "b9c985669218cd94f3f3cc2602031c12",
          "grade": false,
          "grade_id": "ej678-data",
          "locked": true,
          "schema_version": 3,
          "solution": false,
          "task": false
        }
      },
      "outputs": [
        {
          "data": {
            "text/html": [
              "<div>\n",
              "<style scoped>\n",
              "    .dataframe tbody tr th:only-of-type {\n",
              "        vertical-align: middle;\n",
              "    }\n",
              "\n",
              "    .dataframe tbody tr th {\n",
              "        vertical-align: top;\n",
              "    }\n",
              "\n",
              "    .dataframe thead th {\n",
              "        text-align: right;\n",
              "    }\n",
              "</style>\n",
              "<table border=\"1\" class=\"dataframe\">\n",
              "  <thead>\n",
              "    <tr style=\"text-align: right;\">\n",
              "      <th></th>\n",
              "      <th>País en español</th>\n",
              "      <th>País en inglés</th>\n",
              "    </tr>\n",
              "  </thead>\n",
              "  <tbody>\n",
              "    <tr>\n",
              "      <th>0</th>\n",
              "      <td>Afganistán</td>\n",
              "      <td>Afghanistan</td>\n",
              "    </tr>\n",
              "    <tr>\n",
              "      <th>1</th>\n",
              "      <td>Albania</td>\n",
              "      <td>Albania</td>\n",
              "    </tr>\n",
              "    <tr>\n",
              "      <th>2</th>\n",
              "      <td>Alemania</td>\n",
              "      <td>Germany</td>\n",
              "    </tr>\n",
              "    <tr>\n",
              "      <th>3</th>\n",
              "      <td>Andorra</td>\n",
              "      <td>Andorra</td>\n",
              "    </tr>\n",
              "    <tr>\n",
              "      <th>4</th>\n",
              "      <td>Angola</td>\n",
              "      <td>Angola</td>\n",
              "    </tr>\n",
              "  </tbody>\n",
              "</table>\n",
              "</div>"
            ],
            "text/plain": [
              "  País en español País en inglés\n",
              "0      Afganistán    Afghanistan\n",
              "1         Albania        Albania\n",
              "2        Alemania        Germany\n",
              "3         Andorra        Andorra\n",
              "4          Angola         Angola"
            ]
          },
          "execution_count": 34,
          "metadata": {},
          "output_type": "execute_result"
        }
      ],
      "source": [
        "# Esta celda no es modificable.\n",
        "\n",
        "paises = pd.read_csv(\"DiccionarioPaises.csv\", encoding = \"UTF-8\", delimiter = \";\")\n",
        "paises.head()"
      ]
    },
    {
      "cell_type": "markdown",
      "metadata": {
        "deletable": false,
        "editable": false,
        "id": "hal6MgUym9fa",
        "nbgrader": {
          "cell_type": "markdown",
          "checksum": "8e76a28269b4e60b11249b19bc695a4f",
          "grade": false,
          "grade_id": "ej6-task",
          "locked": true,
          "schema_version": 3,
          "solution": false,
          "task": false
        }
      },
      "source": [
        "### Ejercicio 6\n",
        "\n",
        "Implementa una función llamada `dif_longitud` que reciba un `DataFrame` por parámetro, elimine los países cuya traducción cambie en longitud  y retorne un `DataFrame` con las modificaciones realizadas.\n",
        "\n",
        "*Esta función debe retornar un* `DataFrame` *.*"
      ]
    },
    {
      "cell_type": "code",
      "execution_count": 35,
      "metadata": {
        "deletable": false,
        "id": "7_uXz6Dmm9fa",
        "nbgrader": {
          "cell_type": "code",
          "checksum": "d3b290b73c7cc0af92abfa9002c9c667",
          "grade": false,
          "grade_id": "ej6-sol",
          "locked": false,
          "schema_version": 3,
          "solution": true,
          "task": false
        }
      },
      "outputs": [
        {
          "name": "stdout",
          "output_type": "stream",
          "text": [
            "    País en español País en inglés\n",
            "1           Albania        Albania\n",
            "3           Andorra        Andorra\n",
            "4            Angola         Angola\n",
            "6      Arabia Saudí   Saudi Arabia\n",
            "7           Argelia        Algeria\n",
            "..              ...            ...\n",
            "203       Venezuela      Venezuela\n",
            "204         Vietnam        Vietnam\n",
            "205           Yemen          Yemen\n",
            "207          Zambia         Zambia\n",
            "208        Zimbabue       Zimbabwe\n",
            "\n",
            "[127 rows x 2 columns]\n"
          ]
        }
      ],
      "source": [
        "# your code here\n",
        "def dif_longitud(df: pd.DataFrame) -> pd.DataFrame:\n",
        "    df_igual_longitud = df[df[\"País en español\"].str.len() == df[\"País en inglés\"].str.len()]\n",
        "\n",
        "    return df_igual_longitud\n",
        "\n",
        "print(dif_longitud(paises))"
      ]
    },
    {
      "cell_type": "code",
      "execution_count": 36,
      "metadata": {
        "deletable": false,
        "editable": false,
        "id": "ICMlEXXCm9fa",
        "nbgrader": {
          "cell_type": "code",
          "checksum": "73cf26de81943414ff1691e8d2f052d0",
          "grade": true,
          "grade_id": "ej6-test",
          "locked": true,
          "points": 1,
          "schema_version": 3,
          "solution": false,
          "task": false
        }
      },
      "outputs": [
        {
          "name": "stdout",
          "output_type": "stream",
          "text": [
            "Felicidades, realizaste este ejercicio correctamente.\n"
          ]
        }
      ],
      "source": [
        "## AUTO-CALIFICADOR\n",
        "\n",
        "# Base variables\n",
        "paises = pd.read_csv(\"DiccionarioPaises.csv\", encoding = \"UTF-8\", delimiter = \";\")\n",
        "nombre_columnas = ['País en español', 'País en inglés']\n",
        "\n",
        "# Caso 1: no existe la función.\n",
        "try:\n",
        "    dif_longitud\n",
        "    assert type(dif_longitud) == type(lambda:None)\n",
        "except:\n",
        "    raise NotImplementedError(\"No existe una función llamada dif_longitud.\",)\n",
        "\n",
        "# Caso 2: la función es interrumpida por errores durante su ejecución.\n",
        "try:\n",
        "    dif_longitud(paises)\n",
        "except:\n",
        "    raise RuntimeError(\"Tu función produce un error al ejecutarse.\")\n",
        "\n",
        "# Caso 3: no retorna un DataFrame.\n",
        "assert type(dif_longitud(paises)) == type(paises), f\"Tu función debe retornar un objeto de tipo {type(paises).__name__}.\"\n",
        "\n",
        "# Caso 4: devuelve un dataframe cuyas columnas tienen nombre distinto de lo esperado\n",
        "assert [*dif_longitud(paises).columns] == nombre_columnas, \"Tu función retorna un DataFrame con columnas cuyos nombres no coinciden con los de los datos del archivo. Asegurate de estar filtrando las columnas indicadas.\"\n",
        "\n",
        "# Caso 5: devuelve un dataframe con cantidad de filas errada.\n",
        "assert dif_longitud(paises).shape[0] == 127, \"Tu función retorna un DataFrame con cantidad de filas errada.\"\n",
        "\n",
        "# Caso 6: No elimina las filas correctas\n",
        "assert sum((dif_longitud(paises)['País en español']+dif_longitud(paises)['País en inglés']).apply(len) % 2) == 0, \"Tu función no elimina las filas correctas del DataFrame.\"\n",
        "\n",
        "\n",
        "# Mensaje de felicitaciones\n",
        "print(\"Felicidades, realizaste este ejercicio correctamente.\")"
      ]
    },
    {
      "cell_type": "markdown",
      "metadata": {
        "deletable": false,
        "editable": false,
        "id": "L8A9BZzam9fa",
        "nbgrader": {
          "cell_type": "markdown",
          "checksum": "fb8c458ca966956148be80eab31bd35f",
          "grade": false,
          "grade_id": "ej7-task",
          "locked": true,
          "schema_version": 3,
          "solution": false,
          "task": false
        }
      },
      "source": [
        "### Ejercicio 7\n",
        "\n",
        "Implementa una función llamada `paises_por_a` que reciba un `DataFrame` por parámetro y retorne el mismo `DataFrame` con los países cuyo nombre en español inicia con la letra `\"A\"`.\n",
        "\n",
        "*Esta función debe retornar un `DataFrame`*."
      ]
    },
    {
      "cell_type": "code",
      "execution_count": 37,
      "metadata": {
        "deletable": false,
        "id": "jMnQllukm9fa",
        "nbgrader": {
          "cell_type": "code",
          "checksum": "44c7924d48eb3b2824ea2847be1b2a7a",
          "grade": false,
          "grade_id": "ej7-sol",
          "locked": false,
          "schema_version": 3,
          "solution": true,
          "task": false
        }
      },
      "outputs": [
        {
          "name": "stdout",
          "output_type": "stream",
          "text": [
            "      País en español       País en inglés\n",
            "0          Afganistán          Afghanistan\n",
            "1             Albania              Albania\n",
            "2            Alemania              Germany\n",
            "3             Andorra              Andorra\n",
            "4              Angola               Angola\n",
            "5   Antigua y Barbuda  Antigua and Barbuda\n",
            "6        Arabia Saudí         Saudi Arabia\n",
            "7             Argelia              Algeria\n",
            "8           Argentina            Argentina\n",
            "9             Armenia              Armenia\n",
            "10          Australia            Australia\n",
            "11            Austria              Austria\n",
            "12         Azerbaiyán           Azerbaijan\n"
          ]
        }
      ],
      "source": [
        "# your code here\n",
        "def paises_por_a(df: pd.DataFrame) -> pd.DataFrame:\n",
        "    df_paises_por_A =df[ df [\"País en español\"].str.startswith(\"A\")] #verifica el inicial\n",
        "\n",
        "    return(df_paises_por_A)\n",
        "\n",
        "print (paises_por_a(paises))"
      ]
    },
    {
      "cell_type": "code",
      "execution_count": 38,
      "metadata": {
        "deletable": false,
        "editable": false,
        "id": "Ldwxt7JSm9fa",
        "nbgrader": {
          "cell_type": "code",
          "checksum": "2f155130a1e0168edf84af3a06995801",
          "grade": true,
          "grade_id": "ej7-test",
          "locked": true,
          "points": 1,
          "schema_version": 3,
          "solution": false,
          "task": false
        }
      },
      "outputs": [
        {
          "name": "stdout",
          "output_type": "stream",
          "text": [
            "Felicidades, realizaste este ejercicio correctamente.\n"
          ]
        }
      ],
      "source": [
        "## AUTO-CALIFICADOR\n",
        "\n",
        "# Base variables\n",
        "paises = pd.read_csv(\"DiccionarioPaises.csv\", encoding = \"UTF-8\", delimiter = \";\")\n",
        "nombre_columnas = ['País en español', 'País en inglés']\n",
        "\n",
        "# Caso 1: no existe la función.\n",
        "try:\n",
        "    paises_por_a\n",
        "    assert type(paises_por_a) == type(lambda:None)\n",
        "except:\n",
        "    raise NotImplementedError(\"No existe una función llamada paises_por_a.\",)\n",
        "\n",
        "# Caso 2: la función es interrumpida por errores durante su ejecución.\n",
        "try:\n",
        "    paises_por_a(paises)\n",
        "except:\n",
        "    raise RuntimeError(\"Tu función produce un error al ejecutarse.\")\n",
        "\n",
        "# Caso 3: no retorna un dataframe.\n",
        "assert type(paises_por_a(paises)) == type(paises), f\"Tu función debe retornar un objeto de tipo {type(paises).__name__}.\"\n",
        "\n",
        "# Caso 4: devuelve un dataframe cuyas columnas tienen nombre distinto de lo esperado\n",
        "assert [*paises_por_a(paises).columns] == nombre_columnas, \"Tu función retorna un DataFrame con columnas cuyos nombres no coinciden con los de los datos del archivo. Asegurate de estar filtrando las columnas indicadas.\"\n",
        "\n",
        "# Caso 5: devuelve un dataframe con cantidad de filas errada.\n",
        "assert paises_por_a(paises).shape[0] == 13, \"Tu función retorna un DataFrame con cantidad de filas errada.\"\n",
        "\n",
        "# Caso 6: No elimina las filas correctas\n",
        "lista_a = ['Afganistán', 'Albania', 'Alemania', 'Andorra', 'Angola', 'Antigua y Barbuda', 'Arabia Saudí', 'Argelia', 'Argentina', 'Armenia', 'Australia', 'Austria', 'Azerbaiyán']\n",
        "\n",
        "assert lista_a == [*paises_por_a(paises)['País en español']], \"Tu función no elimina las filas correctas del DataFrame.\"\n",
        "\n",
        "\n",
        "# Mensaje de felicitaciones\n",
        "print(\"Felicidades, realizaste este ejercicio correctamente.\")"
      ]
    },
    {
      "cell_type": "markdown",
      "metadata": {
        "deletable": false,
        "editable": false,
        "id": "-ytQXCIGm9fa",
        "nbgrader": {
          "cell_type": "markdown",
          "checksum": "0b56d823784ef5e06ca93e157b197db5",
          "grade": false,
          "grade_id": "ej8-enun",
          "locked": true,
          "schema_version": 3,
          "solution": false,
          "task": false
        }
      },
      "source": [
        "### Ejercicio 8\n",
        "\n",
        "A continuación encuentras una tupla con las letras del alfabeto."
      ]
    },
    {
      "cell_type": "code",
      "execution_count": 39,
      "metadata": {
        "deletable": false,
        "editable": false,
        "id": "V1wx0rBmm9fa",
        "nbgrader": {
          "cell_type": "code",
          "checksum": "5a81dc948011d0af80b75d14671cd98b",
          "grade": false,
          "grade_id": "ej8-data",
          "locked": true,
          "schema_version": 3,
          "solution": false,
          "task": false
        }
      },
      "outputs": [],
      "source": [
        "# Esta celda no es modificable.\n",
        "\n",
        "alfabeto = ('A', 'B', 'C', 'D', 'E', 'F', 'G', 'H', 'I',\n",
        "            'J', 'K', 'L', 'M', 'N', 'Ñ', 'O', 'P', 'Q',\n",
        "            'R', 'S', 'T', 'U', 'V', 'W', 'X', 'Y', 'Z')"
      ]
    },
    {
      "cell_type": "markdown",
      "metadata": {
        "deletable": false,
        "editable": false,
        "id": "ez8SRYyMm9fb",
        "nbgrader": {
          "cell_type": "markdown",
          "checksum": "55f755aefeec5b2db5903d9c5afb378d",
          "grade": false,
          "grade_id": "ej8-task",
          "locked": true,
          "schema_version": 3,
          "solution": false,
          "task": false
        }
      },
      "source": [
        "Implementa una función llamada `inicia_con` que reciba un `DataFrame` por parámetro y retorne un diccionario cuyas llaves sean las letras del abecedario y el valor de cada llave sea el número de países cuyo nombre en inglés inicia con la respectiva letra.\n",
        "\n",
        "*Esta función debe retornar un diccionario*."
      ]
    },
    {
      "cell_type": "code",
      "execution_count": 40,
      "metadata": {
        "deletable": false,
        "id": "DXpGeMsOm9fb",
        "nbgrader": {
          "cell_type": "code",
          "checksum": "8ff0de965ae8291f9a9aad3836810a1f",
          "grade": false,
          "grade_id": "ej8-sol",
          "locked": false,
          "schema_version": 3,
          "solution": true,
          "task": false
        }
      },
      "outputs": [
        {
          "name": "stdout",
          "output_type": "stream",
          "text": [
            "{'A': 11, 'B': 18, 'C': 15, 'D': 3, 'E': 9, 'F': 3, 'G': 13, 'H': 4, 'I': 9, 'J': 3, 'K': 7, 'L': 9, 'M': 17, 'N': 11, 'Ñ': 0, 'O': 1, 'P': 11, 'Q': 1, 'R': 3, 'S': 24, 'T': 23, 'U': 6, 'V': 4, 'W': 1, 'X': 0, 'Y': 1, 'Z': 2}\n"
          ]
        }
      ],
      "source": [
        "# your code here\n",
        "def inicia_con (df: pd.DataFrame) -> dict:\n",
        "    conteo = {letra: 0 for letra in alfabeto}\n",
        "\n",
        "    for pais in df[\"País en inglés\"]:\n",
        "        inicia = pais[0]\n",
        "        if inicia in conteo:\n",
        "            conteo[inicia] += 1 \n",
        "\n",
        "    return conteo\n",
        "    \n",
        "print(inicia_con(paises))"
      ]
    },
    {
      "cell_type": "code",
      "execution_count": 41,
      "metadata": {
        "deletable": false,
        "editable": false,
        "id": "WtmEny5om9fb",
        "nbgrader": {
          "cell_type": "code",
          "checksum": "5e8afe13e77e5ec34c7170364e2cda88",
          "grade": true,
          "grade_id": "ej8-test",
          "locked": true,
          "points": 1,
          "schema_version": 3,
          "solution": false,
          "task": false
        }
      },
      "outputs": [
        {
          "name": "stdout",
          "output_type": "stream",
          "text": [
            "Felicidades, realizaste este ejercicio correctamente.\n"
          ]
        }
      ],
      "source": [
        "## AUTO-CALIFICADOR\n",
        "\n",
        "# Base variables\n",
        "paises = pd.read_csv(\"DiccionarioPaises.csv\", encoding = \"UTF-8\", delimiter = \";\")\n",
        "nombre_columnas = ['País en español', 'País en inglés']\n",
        "alfabeto = ('A', 'B', 'C', 'D', 'E', 'F', 'G', 'H', 'I',\n",
        "            'J', 'K', 'L', 'M', 'N', 'Ñ', 'O', 'P', 'Q',\n",
        "            'R', 'S', 'T', 'U', 'V', 'W', 'X', 'Y', 'Z')\n",
        "\n",
        "# Caso 1: no existe la función.\n",
        "try:\n",
        "    inicia_con\n",
        "    assert type(inicia_con) == type(lambda:None)\n",
        "except:\n",
        "    raise NotImplementedError(\"No existe una función llamada inicia_con.\",)\n",
        "\n",
        "# Caso 2: la función es interrumpida por errores durante su ejecución.\n",
        "try:\n",
        "    inicia_con(paises)\n",
        "except:\n",
        "    raise RuntimeError(\"Tu función produce un error al ejecutarse.\")\n",
        "\n",
        "# Caso 3: no retorna un diccionario.\n",
        "assert type(inicia_con(paises)) == type({}), f\"Tu función debe retornar un objeto de tipo '{type({}).__name__}'.\"\n",
        "\n",
        "# Caso 4: Llaves son el abecedario\n",
        "assert tuple(inicia_con(paises).keys()) == alfabeto, \"Tu diccionario tiene llaves diferentes al abecedario.\"\n",
        "\n",
        "# Caso 5: Comparamos las que son iguales a cero y otros valores.\n",
        "try:\n",
        "    assert (inicia_con(paises).get('Ñ')) == 0\n",
        "    assert (inicia_con(paises).get('X')) == 0\n",
        "    assert (inicia_con(paises).get('B')) == 18\n",
        "    assert (inicia_con(paises).get('W')) == 1\n",
        "    assert (inicia_con(paises).get('S')) == 24\n",
        "\n",
        "except AssertionError as e:\n",
        "    e.args += (\"Tu respuesta es incorrecta. Revisa tu procedimiento\",)\n",
        "    raise e\n",
        "\n",
        "# Mensaje de felicitaciones\n",
        "print(\"Felicidades, realizaste este ejercicio correctamente.\")"
      ]
    },
    {
      "cell_type": "markdown",
      "metadata": {
        "deletable": false,
        "editable": false,
        "id": "S43PKiEBm9fb",
        "nbgrader": {
          "cell_type": "markdown",
          "checksum": "57ab14c4c02242a7e7ac6e7126de9300",
          "grade": false,
          "grade_id": "creds",
          "locked": true,
          "schema_version": 3,
          "solution": false,
          "task": false
        }
      },
      "source": [
        "## Créditos\n",
        "\n",
        "**Autor(es):** Camilo Falla Moreno, Juan David Reyes Jaimes, Alejandro Mantilla Redondo, Diego Alejandro Cely Gómez\n",
        "\n",
        "**Fecha última actualización:** 17/09/2021"
      ]
    }
  ],
  "metadata": {
    "colab": {
      "provenance": []
    },
    "kernelspec": {
      "display_name": "Python 3",
      "name": "python3"
    },
    "language_info": {
      "codemirror_mode": {
        "name": "ipython",
        "version": 3
      },
      "file_extension": ".py",
      "mimetype": "text/x-python",
      "name": "python",
      "nbconvert_exporter": "python",
      "pygments_lexer": "ipython3",
      "version": "3.10.11"
    },
    "vscode": {
      "interpreter": {
        "hash": "8b8193576751691e149fe4b02bd81acb44aebb7039077c15be9d1f0082e2f63d"
      }
    }
  },
  "nbformat": 4,
  "nbformat_minor": 0
}
